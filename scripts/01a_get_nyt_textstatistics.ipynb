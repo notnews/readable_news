{
 "cells": [
  {
   "cell_type": "code",
   "execution_count": 7,
   "id": "b9181c59",
   "metadata": {
    "scrolled": true
   },
   "outputs": [],
   "source": [
    "# !pip install textstat\n",
    "# !pip install lexicalrichness"
   ]
  },
  {
   "cell_type": "code",
   "execution_count": 1,
   "id": "313a91e1",
   "metadata": {},
   "outputs": [],
   "source": [
    "import pandas as pd\n",
    "pd.options.display.max_columns = 50\n",
    "import numpy as np\n",
    "import warnings\n",
    "warnings.filterwarnings('ignore')\n",
    "from data_utils import (\n",
    "    clean_transcripts,\n",
    "    flesch,\n",
    "    fog,\n",
    "    smog,\n",
    "    terms,\n",
    "    uniqueterms, \n",
    "    ttr, \n",
    "    mtld, \n",
    "    hdd\n",
    ")\n",
    "\n",
    "# FP_NYT = '../../readable_news_lf/nyt.zip'\n",
    "FP_NYT = 'raw_data/nyt.zip'"
   ]
  },
  {
   "cell_type": "code",
   "execution_count": 2,
   "id": "9f5deca5",
   "metadata": {
    "scrolled": true
   },
   "outputs": [
    {
     "name": "stdout",
     "output_type": "stream",
     "text": [
      "CPU times: user 3d 1h 7min 41s, sys: 9min 21s, total: 3d 1h 17min 2s\n",
      "Wall time: 3d 1h 45min 24s\n"
     ]
    },
    {
     "data": {
      "text/html": [
       "<div>\n",
       "<style scoped>\n",
       "    .dataframe tbody tr th:only-of-type {\n",
       "        vertical-align: middle;\n",
       "    }\n",
       "\n",
       "    .dataframe tbody tr th {\n",
       "        vertical-align: top;\n",
       "    }\n",
       "\n",
       "    .dataframe thead th {\n",
       "        text-align: right;\n",
       "    }\n",
       "</style>\n",
       "<table border=\"1\" class=\"dataframe\">\n",
       "  <thead>\n",
       "    <tr style=\"text-align: right;\">\n",
       "      <th></th>\n",
       "      <th>Body</th>\n",
       "      <th>News Desk</th>\n",
       "      <th>Online Section</th>\n",
       "      <th>date</th>\n",
       "      <th>flesch_reading_ease</th>\n",
       "      <th>fog</th>\n",
       "      <th>smog</th>\n",
       "      <th>terms</th>\n",
       "      <th>uniqueterms</th>\n",
       "      <th>ttr</th>\n",
       "      <th>mtld</th>\n",
       "      <th>hdd</th>\n",
       "    </tr>\n",
       "  </thead>\n",
       "  <tbody>\n",
       "    <tr>\n",
       "      <th>0</th>\n",
       "      <td>company reports aar corp qtr to nov sales ,, ,...</td>\n",
       "      <td>Financial Desk</td>\n",
       "      <td>Business</td>\n",
       "      <td>19870101T000000</td>\n",
       "      <td>NaN</td>\n",
       "      <td>NaN</td>\n",
       "      <td>NaN</td>\n",
       "      <td>85.0</td>\n",
       "      <td>37</td>\n",
       "      <td>0.456790</td>\n",
       "      <td>24.536496</td>\n",
       "      <td>0.619748</td>\n",
       "    </tr>\n",
       "    <tr>\n",
       "      <th>1</th>\n",
       "      <td>company reports american cytogenetics qtr to o...</td>\n",
       "      <td>Financial Desk</td>\n",
       "      <td>Business</td>\n",
       "      <td>19870101T000000</td>\n",
       "      <td>NaN</td>\n",
       "      <td>NaN</td>\n",
       "      <td>NaN</td>\n",
       "      <td>46.0</td>\n",
       "      <td>17</td>\n",
       "      <td>0.386364</td>\n",
       "      <td>22.622642</td>\n",
       "      <td>0.404435</td>\n",
       "    </tr>\n",
       "    <tr>\n",
       "      <th>2</th>\n",
       "      <td>company reports applied power qtr to nov sales...</td>\n",
       "      <td>Financial Desk</td>\n",
       "      <td>Business</td>\n",
       "      <td>19870101T000000</td>\n",
       "      <td>NaN</td>\n",
       "      <td>NaN</td>\n",
       "      <td>NaN</td>\n",
       "      <td>30.0</td>\n",
       "      <td>14</td>\n",
       "      <td>0.500000</td>\n",
       "      <td>28.000000</td>\n",
       "      <td>NaN</td>\n",
       "    </tr>\n",
       "  </tbody>\n",
       "</table>\n",
       "</div>"
      ],
      "text/plain": [
       "                                                Body       News Desk  \\\n",
       "0  company reports aar corp qtr to nov sales ,, ,...  Financial Desk   \n",
       "1  company reports american cytogenetics qtr to o...  Financial Desk   \n",
       "2  company reports applied power qtr to nov sales...  Financial Desk   \n",
       "\n",
       "  Online Section             date  flesch_reading_ease  fog  smog  terms  \\\n",
       "0       Business  19870101T000000                  NaN  NaN   NaN   85.0   \n",
       "1       Business  19870101T000000                  NaN  NaN   NaN   46.0   \n",
       "2       Business  19870101T000000                  NaN  NaN   NaN   30.0   \n",
       "\n",
       "   uniqueterms       ttr       mtld       hdd  \n",
       "0           37  0.456790  24.536496  0.619748  \n",
       "1           17  0.386364  22.622642  0.404435  \n",
       "2           14  0.500000  28.000000       NaN  "
      ]
     },
     "execution_count": 2,
     "metadata": {},
     "output_type": "execute_result"
    }
   ],
   "source": [
    "%%time\n",
    "# _usecols = ['Body', 'Headline', 'Lead Paragraph', 'News Desk', 'Online Section', 'Publication Year']\n",
    "_usecols = ['Body', 'News Desk', 'Online Section', 'Publication Date']\n",
    "\n",
    "df_nyt = (pd.read_csv(FP_NYT, usecols=_usecols)\n",
    "          .rename(columns={'Publication Date': 'date'})\n",
    "          .query('date==date')\n",
    "          .query('Body==Body')\n",
    "          .assign(Body=lambda df: df.Body.str.strip())\n",
    "          .query('Body!=\"\"')\n",
    "          .assign(\n",
    "              Body=lambda df: df.Body.apply(clean_transcripts),\n",
    "              # Compute readability\n",
    "              flesch_reading_ease=lambda df: df.Body.apply(flesch),\n",
    "              fog=lambda df: df.Body.apply(fog), \n",
    "              smog=lambda df: df.Body.apply(smog),  \n",
    "              terms=lambda df: df.Body.apply(terms),\n",
    "              # Compute lexical richness\n",
    "              uniqueterms=lambda df: df.Body.apply(uniqueterms), \n",
    "              ttr=lambda df: df.Body.apply(ttr),\n",
    "              mtld=lambda df: df.Body.apply(mtld),\n",
    "              hdd=lambda df: df.Body.apply(hdd),\n",
    "          )\n",
    "         )\n",
    "\n",
    "# df_nyt.memory_usage(deep=True).sum()/ 1073741824\n",
    "df_nyt.head(3)"
   ]
  },
  {
   "cell_type": "code",
   "execution_count": 3,
   "id": "05248740",
   "metadata": {},
   "outputs": [],
   "source": [
    "(df_nyt\n",
    " .drop('Body', axis=1)\n",
    " .to_csv('data/nyt_1987_2007_textstat.csv.gz', compression=\"gzip\")\n",
    ")"
   ]
  },
  {
   "cell_type": "code",
   "execution_count": null,
   "id": "79fc601b",
   "metadata": {},
   "outputs": [],
   "source": []
  }
 ],
 "metadata": {
  "kernelspec": {
   "display_name": "Python 3 (ipykernel)",
   "language": "python",
   "name": "python3"
  },
  "language_info": {
   "codemirror_mode": {
    "name": "ipython",
    "version": 3
   },
   "file_extension": ".py",
   "mimetype": "text/x-python",
   "name": "python",
   "nbconvert_exporter": "python",
   "pygments_lexer": "ipython3",
   "version": "3.8.12"
  }
 },
 "nbformat": 4,
 "nbformat_minor": 5
}
