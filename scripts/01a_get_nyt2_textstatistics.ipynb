{
 "cells": [
  {
   "cell_type": "code",
   "execution_count": 1,
   "id": "313a91e1",
   "metadata": {},
   "outputs": [],
   "source": [
    "import pandas as pd\n",
    "pd.options.display.max_columns = 50\n",
    "import sqlite3\n",
    "import numpy as np\n",
    "import warnings\n",
    "warnings.filterwarnings('ignore')\n",
    "from data_utils import (\n",
    "    clean_transcripts,\n",
    "    flesch,\n",
    "    fog,\n",
    "    smog,\n",
    "    terms,\n",
    "    uniqueterms, \n",
    "    ttr, \n",
    "    mtld, \n",
    "    hdd\n",
    ")\n",
    "\n",
    "con = sqlite3.connect(\"../data/nyt.db\")"
   ]
  },
  {
   "cell_type": "code",
   "execution_count": null,
   "id": "9f5deca5",
   "metadata": {
    "scrolled": true
   },
   "outputs": [],
   "source": [
    "df_nyt = (pd.read_sql_query(\"SELECT * from nyt_stories\", con)\n",
    "          .rename(columns={'publish_date': 'date'})\n",
    "          .query('date==date')\n",
    "          .assign(text=lambda df: df.text.str.strip())\n",
    "          .query('text!=\"\"')\n",
    "          .assign(\n",
    "              text=lambda df: df.text.apply(clean_transcripts),\n",
    "              # Compute readability\n",
    "              flesch_reading_ease=lambda df: df.text.apply(flesch),\n",
    "              fog=lambda df: df.text.apply(fog), \n",
    "              smog=lambda df: df.text.apply(smog),  \n",
    "              terms=lambda df: df.text.apply(terms),\n",
    "              # Compute lexical richness\n",
    "              uniqueterms=lambda df: df.text.apply(uniqueterms), \n",
    "              ttr=lambda df: df.text.apply(ttr),\n",
    "              mtld=lambda df: df.text.apply(mtld),\n",
    "              hdd=lambda df: df.text.apply(hdd),\n",
    "         )\n",
    "         )\n",
    "        \n",
    "\n",
    "df_nyt.head(3)"
   ]
  },
  {
   "cell_type": "code",
   "execution_count": null,
   "id": "05248740",
   "metadata": {},
   "outputs": [],
   "source": [
    "(df_nyt\n",
    " .drop('text', axis=1)\n",
    " .to_csv('/Users/derekwillis/code/unreadable_news/data/nyt_2_textstat.csv.gz', compression=\"gzip\")\n",
    ")"
   ]
  }
 ],
 "metadata": {
  "kernelspec": {
   "display_name": "Python 3 (ipykernel)",
   "language": "python",
   "name": "python3"
  },
  "language_info": {
   "codemirror_mode": {
    "name": "ipython",
    "version": 3
   },
   "file_extension": ".py",
   "mimetype": "text/x-python",
   "name": "python",
   "nbconvert_exporter": "python",
   "pygments_lexer": "ipython3",
   "version": "3.9.13"
  }
 },
 "nbformat": 4,
 "nbformat_minor": 5
}
