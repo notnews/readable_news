{
 "cells": [
  {
   "cell_type": "code",
   "execution_count": 1,
   "id": "63594a33",
   "metadata": {
    "ExecuteTime": {
     "end_time": "2022-04-18T13:40:59.613691Z",
     "start_time": "2022-04-18T13:40:43.712068Z"
    }
   },
   "outputs": [],
   "source": [
    "import os\n",
    "import pandas as pd\n",
    "import numpy as np\n",
    "import matplotlib.pyplot as plt\n",
    "import seaborn as sns\n",
    "sns.set_theme(context=\"notebook\", font_scale=1.05, \n",
    "              style='whitegrid')\n",
    "from graph_utils import save_mpl_fig\n",
    "\n",
    "FP_NYT = '../data/nyt_1987_2007_textstat.csv.gz'\n",
    "FP_CNN = '../data/cnn_2000_2021_textstat.csv.gz'\n",
    "FP_NPR = '../data/npr_cnn_textstat.csv.gz'\n",
    "FP1_MSNBC = '../data/msnbc2003_2014_textstat.csv.gz'\n",
    "FP2_MSNBC = '../data/msnbc2010_2021_textstat.csv.gz'\n",
    "SAVEPATH = '../figs/'"
   ]
  },
  {
   "cell_type": "code",
   "execution_count": 2,
   "id": "01521f9a",
   "metadata": {
    "ExecuteTime": {
     "end_time": "2022-04-18T13:41:12.776994Z",
     "start_time": "2022-04-18T13:40:59.613691Z"
    },
    "code_folding": [
     0
    ]
   },
   "outputs": [
    {
     "data": {
      "text/html": [
       "<div>\n",
       "<style scoped>\n",
       "    .dataframe tbody tr th:only-of-type {\n",
       "        vertical-align: middle;\n",
       "    }\n",
       "\n",
       "    .dataframe tbody tr th {\n",
       "        vertical-align: top;\n",
       "    }\n",
       "\n",
       "    .dataframe thead th {\n",
       "        text-align: right;\n",
       "    }\n",
       "</style>\n",
       "<table border=\"1\" class=\"dataframe\">\n",
       "  <thead>\n",
       "    <tr style=\"text-align: right;\">\n",
       "      <th></th>\n",
       "      <th>date</th>\n",
       "      <th>flesch_reading_ease</th>\n",
       "      <th>mtld</th>\n",
       "      <th>cat</th>\n",
       "    </tr>\n",
       "  </thead>\n",
       "  <tbody>\n",
       "    <tr>\n",
       "      <th>18</th>\n",
       "      <td>1987-01-01</td>\n",
       "      <td>45.236522</td>\n",
       "      <td>29.000000</td>\n",
       "      <td>nyt</td>\n",
       "    </tr>\n",
       "    <tr>\n",
       "      <th>36</th>\n",
       "      <td>1987-01-01</td>\n",
       "      <td>48.611000</td>\n",
       "      <td>95.661933</td>\n",
       "      <td>nyt</td>\n",
       "    </tr>\n",
       "    <tr>\n",
       "      <th>37</th>\n",
       "      <td>1987-01-01</td>\n",
       "      <td>72.219069</td>\n",
       "      <td>78.648615</td>\n",
       "      <td>nyt</td>\n",
       "    </tr>\n",
       "  </tbody>\n",
       "</table>\n",
       "</div>"
      ],
      "text/plain": [
       "         date  flesch_reading_ease       mtld  cat\n",
       "18 1987-01-01            45.236522  29.000000  nyt\n",
       "36 1987-01-01            48.611000  95.661933  nyt\n",
       "37 1987-01-01            72.219069  78.648615  nyt"
      ]
     },
     "execution_count": 2,
     "metadata": {},
     "output_type": "execute_result"
    }
   ],
   "source": [
    "# (fold cell) Prep NYT\n",
    "df_nyt = (pd.read_csv(FP_NYT, usecols=['date', 'terms', 'flesch_reading_ease', 'mtld'])\n",
    "          .rename(columns={'Publication Date': 'date'})\n",
    "          .assign(date=lambda df: pd.to_datetime(df.date))\n",
    "          # Drop outliers by length\n",
    "          .pipe(lambda df: df.query(f'terms>{df.terms.quantile(q=0.01)} & terms<{df.terms.quantile(q=0.99)}'))       \n",
    "          .query('terms>100').drop('terms', axis=1)\n",
    "          .assign(cat='nyt')\n",
    "#           .groupby(['year']).mean().reset_index()\n",
    "         )\n",
    "df_nyt.head(3)"
   ]
  },
  {
   "cell_type": "code",
   "execution_count": 3,
   "id": "71114f35",
   "metadata": {
    "ExecuteTime": {
     "end_time": "2022-04-18T13:41:16.535515Z",
     "start_time": "2022-04-18T13:41:12.776994Z"
    },
    "code_folding": [
     0
    ]
   },
   "outputs": [
    {
     "data": {
      "text/html": [
       "<div>\n",
       "<style scoped>\n",
       "    .dataframe tbody tr th:only-of-type {\n",
       "        vertical-align: middle;\n",
       "    }\n",
       "\n",
       "    .dataframe tbody tr th {\n",
       "        vertical-align: top;\n",
       "    }\n",
       "\n",
       "    .dataframe thead th {\n",
       "        text-align: right;\n",
       "    }\n",
       "</style>\n",
       "<table border=\"1\" class=\"dataframe\">\n",
       "  <thead>\n",
       "    <tr style=\"text-align: right;\">\n",
       "      <th></th>\n",
       "      <th>year</th>\n",
       "      <th>flesch_reading_ease</th>\n",
       "      <th>mtld</th>\n",
       "      <th>cat</th>\n",
       "    </tr>\n",
       "  </thead>\n",
       "  <tbody>\n",
       "    <tr>\n",
       "      <th>0</th>\n",
       "      <td>2012.0</td>\n",
       "      <td>77.515372</td>\n",
       "      <td>82.194127</td>\n",
       "      <td>cnn</td>\n",
       "    </tr>\n",
       "    <tr>\n",
       "      <th>1</th>\n",
       "      <td>2012.0</td>\n",
       "      <td>74.679795</td>\n",
       "      <td>83.549220</td>\n",
       "      <td>cnn</td>\n",
       "    </tr>\n",
       "    <tr>\n",
       "      <th>2</th>\n",
       "      <td>2012.0</td>\n",
       "      <td>73.594620</td>\n",
       "      <td>86.857237</td>\n",
       "      <td>cnn</td>\n",
       "    </tr>\n",
       "  </tbody>\n",
       "</table>\n",
       "</div>"
      ],
      "text/plain": [
       "     year  flesch_reading_ease       mtld  cat\n",
       "0  2012.0            77.515372  82.194127  cnn\n",
       "1  2012.0            74.679795  83.549220  cnn\n",
       "2  2012.0            73.594620  86.857237  cnn"
      ]
     },
     "execution_count": 3,
     "metadata": {},
     "output_type": "execute_result"
    }
   ],
   "source": [
    "# (fold cell) Prep CNN\n",
    "df_cnn = (pd.read_csv(FP_CNN, usecols=['year', 'terms', 'flesch_reading_ease', 'mtld'])\n",
    "          .assign(year=lambda df: np.where(df.year==3007, 2007,df.year))\n",
    "          # Drop outliers by length\n",
    "          .pipe(lambda df: df.query(f'terms>{df.terms.quantile(q=0.01)} & terms<{df.terms.quantile(q=0.99)}'))       \n",
    "          .query('terms>100').drop('terms', axis=1)    \n",
    "          .assign(cat='cnn')          \n",
    "#           .groupby(['year']).mean().reset_index()\n",
    "         )\n",
    "df_cnn.head(3)"
   ]
  },
  {
   "cell_type": "code",
   "execution_count": 4,
   "id": "f7ffd7e7",
   "metadata": {
    "ExecuteTime": {
     "end_time": "2022-04-18T13:41:32.180229Z",
     "start_time": "2022-04-18T13:41:16.535515Z"
    },
    "code_folding": [
     0
    ]
   },
   "outputs": [
    {
     "data": {
      "text/html": [
       "<div>\n",
       "<style scoped>\n",
       "    .dataframe tbody tr th:only-of-type {\n",
       "        vertical-align: middle;\n",
       "    }\n",
       "\n",
       "    .dataframe tbody tr th {\n",
       "        vertical-align: top;\n",
       "    }\n",
       "\n",
       "    .dataframe thead th {\n",
       "        text-align: right;\n",
       "    }\n",
       "</style>\n",
       "<table border=\"1\" class=\"dataframe\">\n",
       "  <thead>\n",
       "    <tr style=\"text-align: right;\">\n",
       "      <th></th>\n",
       "      <th>id</th>\n",
       "      <th>date</th>\n",
       "      <th>flesch_reading_ease</th>\n",
       "      <th>mtld</th>\n",
       "      <th>cat</th>\n",
       "    </tr>\n",
       "  </thead>\n",
       "  <tbody>\n",
       "    <tr>\n",
       "      <th>0</th>\n",
       "      <td>NPR-1</td>\n",
       "      <td>2007-11-28</td>\n",
       "      <td>75.110651</td>\n",
       "      <td>58.103925</td>\n",
       "      <td>npr</td>\n",
       "    </tr>\n",
       "    <tr>\n",
       "      <th>1</th>\n",
       "      <td>NPR-2</td>\n",
       "      <td>2016-10-23</td>\n",
       "      <td>74.540699</td>\n",
       "      <td>71.261653</td>\n",
       "      <td>npr</td>\n",
       "    </tr>\n",
       "    <tr>\n",
       "      <th>2</th>\n",
       "      <td>NPR-3</td>\n",
       "      <td>2007-11-30</td>\n",
       "      <td>73.049643</td>\n",
       "      <td>111.067707</td>\n",
       "      <td>npr</td>\n",
       "    </tr>\n",
       "  </tbody>\n",
       "</table>\n",
       "</div>"
      ],
      "text/plain": [
       "      id       date  flesch_reading_ease        mtld  cat\n",
       "0  NPR-1 2007-11-28            75.110651   58.103925  npr\n",
       "1  NPR-2 2016-10-23            74.540699   71.261653  npr\n",
       "2  NPR-3 2007-11-30            73.049643  111.067707  npr"
      ]
     },
     "execution_count": 4,
     "metadata": {},
     "output_type": "execute_result"
    }
   ],
   "source": [
    "# (fold cell) Prep NPR\n",
    "df_npr = (pd.read_csv(FP_NPR, usecols=['date', 'id', 'terms', 'flesch_reading_ease', 'mtld'])\n",
    "          # Set date\n",
    "          .assign(date=lambda df: df.date.str.replace('3007', '2007'))\n",
    "          .assign(date=lambda df: pd.to_datetime(df.date, errors='coerce'))\n",
    "          # Drop outliers by length\n",
    "          .pipe(lambda df: df.query(f'terms>{df.terms.quantile(q=0.01)} & terms<{df.terms.quantile(q=0.99)}'))       \n",
    "          .query('terms>100').drop('terms', axis=1)    \n",
    "          # Assign NPR or CNN\n",
    "          .assign(npr=lambda df: np.where(df.id.str.contains('npr', case=False),1,0))\n",
    "          .query('npr==1').drop('npr', axis=1)\n",
    "          .assign(cat='npr')          \n",
    "#           .groupby(['year']).mean().reset_index()\n",
    "         )\n",
    "df_npr.head(3)"
   ]
  },
  {
   "cell_type": "code",
   "execution_count": 5,
   "id": "ffef52dc",
   "metadata": {
    "ExecuteTime": {
     "end_time": "2022-04-18T13:41:37.152600Z",
     "start_time": "2022-04-18T13:41:32.180229Z"
    },
    "code_folding": [
     0
    ]
   },
   "outputs": [
    {
     "data": {
      "text/html": [
       "<div>\n",
       "<style scoped>\n",
       "    .dataframe tbody tr th:only-of-type {\n",
       "        vertical-align: middle;\n",
       "    }\n",
       "\n",
       "    .dataframe tbody tr th {\n",
       "        vertical-align: top;\n",
       "    }\n",
       "\n",
       "    .dataframe thead th {\n",
       "        text-align: right;\n",
       "    }\n",
       "</style>\n",
       "<table border=\"1\" class=\"dataframe\">\n",
       "  <thead>\n",
       "    <tr style=\"text-align: right;\">\n",
       "      <th></th>\n",
       "      <th>Date</th>\n",
       "      <th>flesch_reading_ease</th>\n",
       "      <th>mtld</th>\n",
       "      <th>date</th>\n",
       "      <th>air_date</th>\n",
       "      <th>year</th>\n",
       "      <th>cat</th>\n",
       "    </tr>\n",
       "  </thead>\n",
       "  <tbody>\n",
       "    <tr>\n",
       "      <th>1</th>\n",
       "      <td>Monday, March 31, 2003</td>\n",
       "      <td>56.027565</td>\n",
       "      <td>106.771874</td>\n",
       "      <td>2003-03-31</td>\n",
       "      <td>NaN</td>\n",
       "      <td>2003</td>\n",
       "      <td>msnbc</td>\n",
       "    </tr>\n",
       "    <tr>\n",
       "      <th>2</th>\n",
       "      <td>Monday, March 31, 2003</td>\n",
       "      <td>60.810621</td>\n",
       "      <td>92.143945</td>\n",
       "      <td>2003-03-31</td>\n",
       "      <td>NaN</td>\n",
       "      <td>2003</td>\n",
       "      <td>msnbc</td>\n",
       "    </tr>\n",
       "    <tr>\n",
       "      <th>3</th>\n",
       "      <td>Monday, March 31, 2003</td>\n",
       "      <td>61.593543</td>\n",
       "      <td>94.641063</td>\n",
       "      <td>2003-03-31</td>\n",
       "      <td>NaN</td>\n",
       "      <td>2003</td>\n",
       "      <td>msnbc</td>\n",
       "    </tr>\n",
       "  </tbody>\n",
       "</table>\n",
       "</div>"
      ],
      "text/plain": [
       "                     Date  flesch_reading_ease        mtld       date  \\\n",
       "1  Monday, March 31, 2003            56.027565  106.771874 2003-03-31   \n",
       "2  Monday, March 31, 2003            60.810621   92.143945 2003-03-31   \n",
       "3  Monday, March 31, 2003            61.593543   94.641063 2003-03-31   \n",
       "\n",
       "  air_date  year    cat  \n",
       "1      NaN  2003  msnbc  \n",
       "2      NaN  2003  msnbc  \n",
       "3      NaN  2003  msnbc  "
      ]
     },
     "execution_count": 5,
     "metadata": {},
     "output_type": "execute_result"
    }
   ],
   "source": [
    "# (fold cell) Read MSNBC\n",
    "df_msnbc = (pd.read_csv(FP1_MSNBC, usecols=['Date', 'terms', 'flesch_reading_ease', 'mtld'])\n",
    "            .assign(date=lambda df: pd.to_datetime(df.Date))\n",
    "            .pipe(lambda df: pd.concat([df, (pd.read_csv(FP2_MSNBC, usecols=['air_date', 'terms', 'flesch_reading_ease', 'mtld'])\n",
    "                                             .assign(date=lambda df: pd.to_datetime(df.air_date))\n",
    "                                            )])\n",
    "                 )\n",
    "            # set date\n",
    "            .assign(date=lambda df: pd.to_datetime(df.date, errors='coerce'),\n",
    "                    year=lambda df: [dt64.year for dt64 in df.date])    \n",
    "            # Drop outliers by length\n",
    "            .pipe(lambda df: df.query(f'terms>{df.terms.quantile(q=0.01)} & terms<{df.terms.quantile(q=0.99)}'))       \n",
    "            .query('terms>100').drop('terms', axis=1)   \n",
    "            .query('year>2002') # only one obs.\n",
    "          .assign(cat='msnbc')            \n",
    "#             .groupby(['year']).mean().reset_index()      \n",
    "           )\n",
    "df_msnbc.head(3)"
   ]
  },
  {
   "cell_type": "code",
   "execution_count": 6,
   "id": "4e20ef6b",
   "metadata": {
    "ExecuteTime": {
     "end_time": "2022-04-18T13:41:37.468903Z",
     "start_time": "2022-04-18T13:41:37.154773Z"
    }
   },
   "outputs": [
    {
     "data": {
      "text/html": [
       "<div>\n",
       "<style scoped>\n",
       "    .dataframe tbody tr th:only-of-type {\n",
       "        vertical-align: middle;\n",
       "    }\n",
       "\n",
       "    .dataframe tbody tr th {\n",
       "        vertical-align: top;\n",
       "    }\n",
       "\n",
       "    .dataframe thead th {\n",
       "        text-align: right;\n",
       "    }\n",
       "</style>\n",
       "<table border=\"1\" class=\"dataframe\">\n",
       "  <thead>\n",
       "    <tr style=\"text-align: right;\">\n",
       "      <th></th>\n",
       "      <th>date</th>\n",
       "      <th>flesch_reading_ease</th>\n",
       "      <th>mtld</th>\n",
       "      <th>cat</th>\n",
       "      <th>year</th>\n",
       "      <th>id</th>\n",
       "      <th>Date</th>\n",
       "      <th>air_date</th>\n",
       "    </tr>\n",
       "  </thead>\n",
       "  <tbody>\n",
       "    <tr>\n",
       "      <th>18</th>\n",
       "      <td>1987-01-01</td>\n",
       "      <td>45.236522</td>\n",
       "      <td>29.000000</td>\n",
       "      <td>nyt</td>\n",
       "      <td>NaN</td>\n",
       "      <td>NaN</td>\n",
       "      <td>NaN</td>\n",
       "      <td>NaN</td>\n",
       "    </tr>\n",
       "    <tr>\n",
       "      <th>36</th>\n",
       "      <td>1987-01-01</td>\n",
       "      <td>48.611000</td>\n",
       "      <td>95.661933</td>\n",
       "      <td>nyt</td>\n",
       "      <td>NaN</td>\n",
       "      <td>NaN</td>\n",
       "      <td>NaN</td>\n",
       "      <td>NaN</td>\n",
       "    </tr>\n",
       "    <tr>\n",
       "      <th>37</th>\n",
       "      <td>1987-01-01</td>\n",
       "      <td>72.219069</td>\n",
       "      <td>78.648615</td>\n",
       "      <td>nyt</td>\n",
       "      <td>NaN</td>\n",
       "      <td>NaN</td>\n",
       "      <td>NaN</td>\n",
       "      <td>NaN</td>\n",
       "    </tr>\n",
       "    <tr>\n",
       "      <th>38</th>\n",
       "      <td>1987-01-01</td>\n",
       "      <td>58.231339</td>\n",
       "      <td>68.887903</td>\n",
       "      <td>nyt</td>\n",
       "      <td>NaN</td>\n",
       "      <td>NaN</td>\n",
       "      <td>NaN</td>\n",
       "      <td>NaN</td>\n",
       "    </tr>\n",
       "    <tr>\n",
       "      <th>39</th>\n",
       "      <td>1987-01-01</td>\n",
       "      <td>93.309435</td>\n",
       "      <td>15.007859</td>\n",
       "      <td>nyt</td>\n",
       "      <td>NaN</td>\n",
       "      <td>NaN</td>\n",
       "      <td>NaN</td>\n",
       "      <td>NaN</td>\n",
       "    </tr>\n",
       "  </tbody>\n",
       "</table>\n",
       "</div>"
      ],
      "text/plain": [
       "         date  flesch_reading_ease       mtld  cat  year   id Date air_date\n",
       "18 1987-01-01            45.236522  29.000000  nyt   NaN  NaN  NaN      NaN\n",
       "36 1987-01-01            48.611000  95.661933  nyt   NaN  NaN  NaN      NaN\n",
       "37 1987-01-01            72.219069  78.648615  nyt   NaN  NaN  NaN      NaN\n",
       "38 1987-01-01            58.231339  68.887903  nyt   NaN  NaN  NaN      NaN\n",
       "39 1987-01-01            93.309435  15.007859  nyt   NaN  NaN  NaN      NaN"
      ]
     },
     "execution_count": 6,
     "metadata": {},
     "output_type": "execute_result"
    }
   ],
   "source": [
    "df = pd.concat([df_nyt, df_cnn, df_npr, df_msnbc])\n",
    "\n",
    "df.head()"
   ]
  },
  {
   "cell_type": "code",
   "execution_count": 7,
   "id": "ed85ea8a",
   "metadata": {
    "ExecuteTime": {
     "end_time": "2022-04-18T13:42:01.352290Z",
     "start_time": "2022-04-18T13:41:37.468903Z"
    },
    "scrolled": false
   },
   "outputs": [
    {
     "data": {
      "image/png": "[encoded data removed]",
      "text/plain": [
       "<Figure size 360x360 with 1 Axes>"
      ]
     },
     "metadata": {},
     "output_type": "display_data"
    }
   ],
   "source": [
    "g = sns.catplot(data=df,\n",
    "                x='cat', y='flesch_reading_ease', \n",
    "                ci='sd',\n",
    "                kind='bar', \n",
    "                palette='viridis',\n",
    "                alpha=.85)\n",
    "\n",
    "plt.xlabel('')\n",
    "plt.ylabel('')\n",
    "g.set_xticklabels(['NYT', 'CNN', 'NPR', 'MSNBC'], fontweight='bold')\n",
    "plt.yticks(range(0,100,20), size=13)\n",
    "plt.title('Readability (Flesch Reading Ease)', fontweight='bold', loc='left', size=15)\n",
    "\n",
    "save_mpl_fig(os.path.join(SAVEPATH, 'readability_nyt_cnn_npr_msnbc'))"
   ]
  },
  {
   "cell_type": "code",
   "execution_count": 8,
   "id": "76d7a8fe",
   "metadata": {
    "ExecuteTime": {
     "end_time": "2022-04-18T13:42:24.146132Z",
     "start_time": "2022-04-18T13:42:01.360291Z"
    },
    "scrolled": false
   },
   "outputs": [
    {
     "data": {
      "image/png": "[encoded data removed]",
      "text/plain": [
       "<Figure size 360x360 with 1 Axes>"
      ]
     },
     "metadata": {},
     "output_type": "display_data"
    }
   ],
   "source": [
    "g = sns.catplot(data=df,\n",
    "                x='cat', y='mtld', \n",
    "                ci='sd',\n",
    "                kind='bar', \n",
    "                palette='viridis',\n",
    "                alpha=.85)\n",
    "\n",
    "plt.xlabel('')\n",
    "plt.ylabel('')\n",
    "g.set_xticklabels(['NYT', 'CNN', 'NPR', 'MSNBC'], fontweight='bold')\n",
    "plt.yticks(range(0,140,30), size=13)\n",
    "plt.title('Lexical Richness (MTLD)', fontweight='bold', loc='left', size=15)\n",
    "\n",
    "save_mpl_fig(os.path.join(SAVEPATH, 'lexicalrichness_nyt_cnn_npr_msnbc'))"
   ]
  },
  {
   "cell_type": "code",
   "execution_count": null,
   "id": "40533577",
   "metadata": {},
   "outputs": [],
   "source": []
  }
 ],
 "metadata": {
  "kernelspec": {
   "display_name": "Python 3",
   "language": "python",
   "name": "python3"
  },
  "language_info": {
   "codemirror_mode": {
    "name": "ipython",
    "version": 3
   },
   "file_extension": ".py",
   "mimetype": "text/x-python",
   "name": "python",
   "nbconvert_exporter": "python",
   "pygments_lexer": "ipython3",
   "version": "3.8.8"
  },
  "toc": {
   "base_numbering": 1,
   "nav_menu": {},
   "number_sections": true,
   "sideBar": true,
   "skip_h1_title": false,
   "title_cell": "Table of Contents",
   "title_sidebar": "Contents",
   "toc_cell": false,
   "toc_position": {},
   "toc_section_display": true,
   "toc_window_display": false
  },
  "varInspector": {
   "cols": {
    "lenName": 16,
    "lenType": 16,
    "lenVar": 40
   },
   "kernels_config": {
    "python": {
     "delete_cmd_postfix": "",
     "delete_cmd_prefix": "del ",
     "library": "var_list.py",
     "varRefreshCmd": "print(var_dic_list())"
    },
    "r": {
     "delete_cmd_postfix": ") ",
     "delete_cmd_prefix": "rm(",
     "library": "var_list.r",
     "varRefreshCmd": "cat(var_dic_list()) "
    }
   },
   "types_to_exclude": [
    "module",
    "function",
    "builtin_function_or_method",
    "instance",
    "_Feature"
   ],
   "window_display": false
  }
 },
 "nbformat": 4,
 "nbformat_minor": 5
}
