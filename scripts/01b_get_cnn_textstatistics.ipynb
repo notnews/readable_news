{
 "cells": [
  {
   "cell_type": "code",
   "execution_count": 8,
   "id": "0ed9319d",
   "metadata": {},
   "outputs": [
    {
     "data": {
      "text/plain": [
       "['raw_data/cnn_cc/cnn-6.zip',\n",
       " 'raw_data/cnn_cc/cnn-1.zip',\n",
       " 'raw_data/cnn_cc/cnn-3.zip',\n",
       " 'raw_data/cnn_cc/cnn-4.zip',\n",
       " 'raw_data/cnn_cc/cnn-2.zip',\n",
       " 'raw_data/cnn_cc/cnn-5.zip',\n",
       " 'raw_data/cnn_cc/cnn-7.csv.gz']"
      ]
     },
     "execution_count": 8,
     "metadata": {},
     "output_type": "execute_result"
    }
   ],
   "source": [
    "import os\n",
    "import pandas as pd\n",
    "from glob import glob\n",
    "import textstat\n",
    "from utils import uniqueterms, ttr, mtld, hdd\n",
    "\n",
    "# FP_CNN = '../../readable_news_lf/cnn_cc/'\n",
    "FP_CNN = 'raw_data/cnn_cc/'\n",
    "files = glob(os.path.join(FP_CNN, '*.zip'))\n",
    "files.append('raw_data/cnn_cc/cnn-7.csv.gz')\n",
    "files"
   ]
  },
  {
   "cell_type": "code",
   "execution_count": 12,
   "id": "8e7c24ba",
   "metadata": {
    "scrolled": true
   },
   "outputs": [],
   "source": [
    "_usecols = ['program.name', 'year', 'month', 'date', 'time', 'timezone', 'subhead', 'text']\n",
    "df = (pd.concat([pd.read_csv(file, usecols=_usecols) for file in files])\n",
    "      .query('text==text')\n",
    "      .reset_index(drop=True)\n",
    "      .assign(\n",
    "          # Compute readability for text\n",
    "          flesch_reading_ease=lambda df: df.text.apply(textstat.flesch_reading_ease),\n",
    "          flesch_kincaid_grade=lambda df: df.text.apply(textstat.flesch_kincaid_grade),\n",
    "          fog=lambda df: df.text.apply(textstat.gunning_fog), \n",
    "          smog=lambda df: df.text.apply(textstat.smog_index),  \n",
    "          terms=lambda df: df.text.apply(textstat.lexicon_count),\n",
    "          # Compute lexical richness for text\n",
    "          uniqueterms=lambda df: df.text.apply(uniqueterms), \n",
    "          ttr=lambda df: df.text.apply(ttr),\n",
    "          mtld=lambda df: df.text.apply(mtld),\n",
    "          hdd=lambda df: df.text.apply(hdd),    \n",
    "      )      \n",
    "     )"
   ]
  },
  {
   "cell_type": "code",
   "execution_count": 13,
   "id": "3e2a11dd",
   "metadata": {},
   "outputs": [],
   "source": [
    "(df\n",
    " .drop(['text'], axis=1)\n",
    " .to_csv('data/cnn_2000_2021_textstat.csv.gz', index=False, compression=\"gzip\")\n",
    ")"
   ]
  },
  {
   "cell_type": "code",
   "execution_count": null,
   "id": "fbee36b1",
   "metadata": {},
   "outputs": [],
   "source": []
  }
 ],
 "metadata": {
  "kernelspec": {
   "display_name": "Python 3 (ipykernel)",
   "language": "python",
   "name": "python3"
  },
  "language_info": {
   "codemirror_mode": {
    "name": "ipython",
    "version": 3
   },
   "file_extension": ".py",
   "mimetype": "text/x-python",
   "name": "python",
   "nbconvert_exporter": "python",
   "pygments_lexer": "ipython3",
   "version": "3.8.12"
  }
 },
 "nbformat": 4,
 "nbformat_minor": 5
}
