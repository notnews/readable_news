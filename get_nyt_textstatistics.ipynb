{
 "cells": [
  {
   "cell_type": "code",
   "execution_count": null,
   "id": "62fa4b74",
   "metadata": {
    "ExecuteTime": {
     "end_time": "2022-01-08T08:17:16.512106Z",
     "start_time": "2022-01-08T08:17:12.939151Z"
    }
   },
   "outputs": [],
   "source": [
    "# !pip install textstat\n",
    "# !pip install lexicalrichness"
   ]
  },
  {
   "cell_type": "code",
   "execution_count": null,
   "id": "087c6436",
   "metadata": {
    "ExecuteTime": {
     "end_time": "2022-01-08T08:17:34.337858Z",
     "start_time": "2022-01-08T08:17:34.015691Z"
    }
   },
   "outputs": [],
   "source": [
    "import pandas as pd\n",
    "pd.options.display.max_columns = 50\n",
    "import numpy as np\n",
    "import warnings\n",
    "warnings.filterwarnings('ignore')\n",
    "import textstat\n",
    "from lexicalrichness import LexicalRichness\n",
    "\n",
    "def uniqueterms(text):\n",
    "    lex = LexicalRichness(text)\n",
    "    return lex.terms\n",
    "\n",
    "def ttr(text):\n",
    "    lex = LexicalRichness(text)\n",
    "    if lex.words>1:\n",
    "        return lex.ttr\n",
    "    else:\n",
    "        return None\n",
    "\n",
    "def mtld(text):\n",
    "    lex = LexicalRichness(text)\n",
    "    if lex.words>1:\n",
    "        return lex.mtld(threshold=0.72)\n",
    "    else:\n",
    "        return None\n",
    "\n",
    "def hdd(text):\n",
    "    lex = LexicalRichness(text)\n",
    "    if lex.words>42:\n",
    "        return lex.hdd(draws=42)\n",
    "    else:\n",
    "        return None\n",
    "\n",
    "# FP_NYT = '../readable_news_lf/nyt.csv'\n",
    "FP_NYT = 'raw_data/nyt.zip'"
   ]
  },
  {
   "cell_type": "code",
   "execution_count": null,
   "id": "587e3547",
   "metadata": {
    "ExecuteTime": {
     "end_time": "2022-01-08T08:17:36.597215Z",
     "start_time": "2022-01-08T08:17:36.536210Z"
    }
   },
   "outputs": [],
   "source": [
    "# _usecols = ['Body', 'Headline', 'Lead Paragraph', 'News Desk', 'Online Section', 'Publication Year']\n",
    "_usecols = ['Body', 'News Desk', 'Online Section', 'Publication Year']\n",
    "\n",
    "df_nyt = (pd.read_csv(FP_NYT, usecols=_usecols)\n",
    "          .rename(columns={'Publication Year': 'year'})\n",
    "          .query('year==year')\n",
    "          .query('Body==Body')\n",
    "          .assign(Body=lambda df: df.Body.str.strip())\n",
    "          .query('Body!=\"\"')\n",
    "          .assign(\n",
    "              # Compute readability\n",
    "              flesch_reading_ease=lambda df: df.Body.apply(textstat.flesch_reading_ease),\n",
    "              flesch_kincaid_grade=lambda df: df.Body.apply(textstat.flesch_kincaid_grade),\n",
    "              fog=lambda df: df.Body.apply(textstat.gunning_fog), \n",
    "              smog=lambda df: df.Body.apply(textstat.smog_index), \n",
    "              # Compute lexical richness\n",
    "              uniqueterms=lambda df: df.Body.apply(uniqueterms), \n",
    "              ttr=lambda df: df.Body.apply(ttr),\n",
    "              mtld=lambda df: df.Body.apply(mtld),\n",
    "              hdd=lambda df: df.Body.apply(hdd),\n",
    "          )\n",
    "         )\n",
    "\n",
    "# df_nyt.memory_usage(deep=True).sum()/ 1073741824\n",
    "df_nyt.head(3)"
   ]
  },
  {
   "cell_type": "code",
   "execution_count": null,
   "id": "b1b0b6af",
   "metadata": {},
   "outputs": [],
   "source": [
    "(df_nyt\n",
    " .drop('Body', axis=1)\n",
    " .to_csv('nyt_1987_2007_textstat.csv.gz', index=False, compression=\"gzip\")\n",
    ")"
   ]
  }
 ],
 "metadata": {
  "kernelspec": {
   "display_name": "Python 3",
   "language": "python",
   "name": "python3"
  },
  "language_info": {
   "codemirror_mode": {
    "name": "ipython",
    "version": 3
   },
   "file_extension": ".py",
   "mimetype": "text/x-python",
   "name": "python",
   "nbconvert_exporter": "python",
   "pygments_lexer": "ipython3",
   "version": "3.7.10"
  },
  "toc": {
   "base_numbering": 1,
   "nav_menu": {},
   "number_sections": true,
   "sideBar": true,
   "skip_h1_title": false,
   "title_cell": "Table of Contents",
   "title_sidebar": "Contents",
   "toc_cell": false,
   "toc_position": {},
   "toc_section_display": true,
   "toc_window_display": false
  },
  "varInspector": {
   "cols": {
    "lenName": 16,
    "lenType": 16,
    "lenVar": 40
   },
   "kernels_config": {
    "python": {
     "delete_cmd_postfix": "",
     "delete_cmd_prefix": "del ",
     "library": "var_list.py",
     "varRefreshCmd": "print(var_dic_list())"
    },
    "r": {
     "delete_cmd_postfix": ") ",
     "delete_cmd_prefix": "rm(",
     "library": "var_list.r",
     "varRefreshCmd": "cat(var_dic_list()) "
    }
   },
   "types_to_exclude": [
    "module",
    "function",
    "builtin_function_or_method",
    "instance",
    "_Feature"
   ],
   "window_display": false
  }
 },
 "nbformat": 4,
 "nbformat_minor": 5
}
